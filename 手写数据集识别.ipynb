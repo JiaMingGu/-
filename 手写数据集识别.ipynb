{
 "cells": [
  {
   "cell_type": "code",
   "execution_count": 1,
   "id": "9be5ad92",
   "metadata": {
    "ExecuteTime": {
     "end_time": "2023-05-25T08:41:35.731457Z",
     "start_time": "2023-05-25T08:41:34.451234Z"
    }
   },
   "outputs": [],
   "source": [
    "import matplotlib.pyplot as plt\n",
    "import pandas as pd"
   ]
  },
  {
   "cell_type": "code",
   "execution_count": 2,
   "id": "3c4334ee",
   "metadata": {
    "ExecuteTime": {
     "end_time": "2023-05-25T08:41:39.762162Z",
     "start_time": "2023-05-25T08:41:35.769630Z"
    }
   },
   "outputs": [],
   "source": [
    "import torch\n",
    "import numpy as np\n",
    "import torchvision\n",
    "import torch.nn as nn\n",
    "from torch.utils.data import DataLoader\n",
    "from torch.autograd import Function\n",
    "# 分批次训练，一批 64 个\n",
    "BATCH_SIZE = 64\n",
    "# 所有样本训练 3 次\n",
    "EPOCHS = 100\n",
    "# 学习率设置为 0.0006\n",
    "LEARN_RATE = 2e-3\n",
    "\n",
    "# 若当前 Pytorch 版本以及电脑支持GPU，则使用 GPU 训练，否则使用 CPU\n",
    "device = torch.device('cuda:0' if torch.cuda.is_available() else 'cpu')\n",
    " \n",
    "# 训练集数据加载\n",
    "train_data = torchvision.datasets.MNIST(\n",
    "    download=True,\n",
    "    root='./mnist',\n",
    "    train=True,\n",
    "    transform=torchvision.transforms.ToTensor()\n",
    ")\n",
    "# 构建训练集的数据装载器，一次迭代有 BATCH_SIZE 张图片\n",
    "train_loader = DataLoader(dataset=train_data, batch_size=BATCH_SIZE, shuffle=False)\n",
    " \n",
    "# 测试集数据加载\n",
    "test_data = torchvision.datasets.MNIST(\n",
    "    root='./mnist',\n",
    "    train=False,\n",
    "    transform=torchvision.transforms.ToTensor()\n",
    ")\n",
    "# 构建测试集的数据加载器，一次迭代 1 张图片，我们一张一张的测试\n",
    "test_loader = DataLoader(dataset=test_data, batch_size=128, shuffle = True)\n",
    "INPUT_SIZE = 784\n",
    "HIDE_SIZE_I = 256\n",
    "HIDE_SIZE_O = 64"
   ]
  },
  {
   "cell_type": "code",
   "execution_count": 4,
   "id": "6ab293d6",
   "metadata": {
    "ExecuteTime": {
     "end_time": "2023-05-25T08:41:46.790689Z",
     "start_time": "2023-05-25T08:41:46.766223Z"
    }
   },
   "outputs": [],
   "source": [
    "class DNN(nn.Module):\n",
    "    def __init__(self):\n",
    "        super(DNN, self).__init__()\n",
    "        # 隐藏层 1，使用 sigmoid 激活函数\n",
    "        self.layer1 = nn.Sequential(\n",
    "            nn.Linear(INPUT_SIZE, HIDE_SIZE_I),\n",
    "            nn.Sigmoid()\n",
    "\t\t)\n",
    "        # 隐藏层 2，使用 sigmoid 激活函数\n",
    "        self.layer2 = nn.Sequential(\n",
    "            nn.Linear(HIDE_SIZE_I,HIDE_SIZE_O),\n",
    "            nn.Sigmoid()\n",
    "        )\n",
    "        # 输出层\n",
    "        self.layer_out = nn.Linear(HIDE_SIZE_O, 10)\n",
    " \n",
    "    def forward(self, x):\n",
    "        x = self.layer1(x)\n",
    "        x = self.layer2(x)\n",
    "        self.out = self.layer_out(x)\n",
    "        return self.out"
   ]
  },
  {
   "cell_type": "code",
   "execution_count": 5,
   "id": "b648fc5b",
   "metadata": {
    "ExecuteTime": {
     "end_time": "2023-05-25T08:44:41.662966Z",
     "start_time": "2023-05-25T08:41:49.403450Z"
    }
   },
   "outputs": [
    {
     "name": "stdout",
     "output_type": "stream",
     "text": [
      "epoch 0 train accuracy: 0.1641 valid accuracy：0.1724\n",
      "epoch 1 train accuracy: 0.3073 valid accuracy：0.2388\n",
      "epoch 2 train accuracy: 0.6406 valid accuracy：0.5013\n",
      "epoch 3 train accuracy: 0.6589 valid accuracy：0.5424\n",
      "epoch 4 train accuracy: 0.7292 valid accuracy：0.6049\n",
      "epoch 5 train accuracy: 0.7917 valid accuracy：0.6647\n",
      "epoch 6 train accuracy: 0.7917 valid accuracy：0.6613\n",
      "epoch 7 train accuracy: 0.8281 valid accuracy：0.6886\n",
      "epoch 8 train accuracy: 0.8646 valid accuracy：0.7216\n",
      "epoch 9 train accuracy: 0.8724 valid accuracy：0.7310\n",
      "epoch 10 train accuracy: 0.8802 valid accuracy：0.7473\n",
      "epoch 11 train accuracy: 0.8984 valid accuracy：0.7576\n",
      "epoch 12 train accuracy: 0.9115 valid accuracy：0.7633\n",
      "epoch 13 train accuracy: 0.9141 valid accuracy：0.7733\n",
      "epoch 14 train accuracy: 0.9245 valid accuracy：0.7792\n",
      "epoch 15 train accuracy: 0.9297 valid accuracy：0.7862\n",
      "epoch 16 train accuracy: 0.9479 valid accuracy：0.7927\n",
      "epoch 17 train accuracy: 0.9479 valid accuracy：0.7973\n",
      "epoch 18 train accuracy: 0.9583 valid accuracy：0.8002\n",
      "epoch 19 train accuracy: 0.9661 valid accuracy：0.8033\n",
      "epoch 20 train accuracy: 0.9688 valid accuracy：0.8060\n",
      "epoch 21 train accuracy: 0.9740 valid accuracy：0.8059\n",
      "epoch 22 train accuracy: 0.9766 valid accuracy：0.8079\n",
      "epoch 23 train accuracy: 0.9766 valid accuracy：0.8081\n",
      "epoch 24 train accuracy: 0.9792 valid accuracy：0.8098\n",
      "epoch 25 train accuracy: 0.9818 valid accuracy：0.8102\n",
      "epoch 26 train accuracy: 0.9896 valid accuracy：0.8105\n",
      "epoch 27 train accuracy: 0.9922 valid accuracy：0.8114\n",
      "epoch 28 train accuracy: 0.9922 valid accuracy：0.8125\n",
      "epoch 29 train accuracy: 0.9922 valid accuracy：0.8134\n",
      "epoch 30 train accuracy: 0.9948 valid accuracy：0.8142\n",
      "epoch 31 train accuracy: 0.9948 valid accuracy：0.8134\n",
      "epoch 32 train accuracy: 0.9948 valid accuracy：0.8135\n",
      "epoch 33 train accuracy: 0.9974 valid accuracy：0.8144\n",
      "epoch 34 train accuracy: 0.9974 valid accuracy：0.8144\n",
      "epoch 35 train accuracy: 0.9974 valid accuracy：0.8145\n",
      "epoch 36 train accuracy: 0.9974 valid accuracy：0.8145\n",
      "epoch 37 train accuracy: 0.9974 valid accuracy：0.8150\n",
      "epoch 38 train accuracy: 0.9974 valid accuracy：0.8154\n",
      "epoch 39 train accuracy: 1.0000 valid accuracy：0.8159\n",
      "epoch 40 train accuracy: 1.0000 valid accuracy：0.8169\n",
      "epoch 41 train accuracy: 1.0000 valid accuracy：0.8174\n",
      "epoch 42 train accuracy: 1.0000 valid accuracy：0.8174\n",
      "epoch 43 train accuracy: 1.0000 valid accuracy：0.8179\n",
      "epoch 44 train accuracy: 1.0000 valid accuracy：0.8194\n",
      "epoch 45 train accuracy: 1.0000 valid accuracy：0.8180\n",
      "epoch 46 train accuracy: 1.0000 valid accuracy：0.8186\n",
      "epoch 47 train accuracy: 1.0000 valid accuracy：0.8189\n",
      "epoch 48 train accuracy: 1.0000 valid accuracy：0.8207\n",
      "epoch 49 train accuracy: 1.0000 valid accuracy：0.8196\n",
      "epoch 50 train accuracy: 1.0000 valid accuracy：0.8168\n",
      "epoch 51 train accuracy: 1.0000 valid accuracy：0.8139\n",
      "epoch 52 train accuracy: 1.0000 valid accuracy：0.8162\n",
      "epoch 53 train accuracy: 1.0000 valid accuracy：0.8165\n",
      "epoch 54 train accuracy: 1.0000 valid accuracy：0.8158\n",
      "epoch 55 train accuracy: 1.0000 valid accuracy：0.8168\n",
      "epoch 56 train accuracy: 1.0000 valid accuracy：0.8197\n",
      "epoch 57 train accuracy: 1.0000 valid accuracy：0.8203\n",
      "epoch 58 train accuracy: 1.0000 valid accuracy：0.8224\n",
      "epoch 59 train accuracy: 1.0000 valid accuracy：0.8193\n",
      "epoch 60 train accuracy: 1.0000 valid accuracy：0.8189\n",
      "epoch 61 train accuracy: 1.0000 valid accuracy：0.8215\n",
      "epoch 62 train accuracy: 1.0000 valid accuracy：0.8217\n",
      "epoch 63 train accuracy: 1.0000 valid accuracy：0.8185\n",
      "epoch 64 train accuracy: 1.0000 valid accuracy：0.8183\n",
      "epoch 65 train accuracy: 1.0000 valid accuracy：0.8200\n",
      "epoch 66 train accuracy: 1.0000 valid accuracy：0.8221\n",
      "epoch 67 train accuracy: 1.0000 valid accuracy：0.8213\n",
      "epoch 68 train accuracy: 1.0000 valid accuracy：0.8220\n",
      "epoch 69 train accuracy: 1.0000 valid accuracy：0.8221\n",
      "epoch 70 train accuracy: 1.0000 valid accuracy：0.8208\n",
      "epoch 71 train accuracy: 1.0000 valid accuracy：0.8206\n",
      "epoch 72 train accuracy: 1.0000 valid accuracy：0.8215\n",
      "epoch 73 train accuracy: 1.0000 valid accuracy：0.8210\n",
      "epoch 74 train accuracy: 1.0000 valid accuracy：0.8222\n",
      "epoch 75 train accuracy: 1.0000 valid accuracy：0.8225\n",
      "epoch 76 train accuracy: 1.0000 valid accuracy：0.8220\n",
      "epoch 77 train accuracy: 1.0000 valid accuracy：0.8213\n",
      "epoch 78 train accuracy: 1.0000 valid accuracy：0.8209\n",
      "epoch 79 train accuracy: 1.0000 valid accuracy：0.8217\n",
      "epoch 80 train accuracy: 1.0000 valid accuracy：0.8222\n",
      "epoch 81 train accuracy: 1.0000 valid accuracy：0.8227\n",
      "epoch 82 train accuracy: 1.0000 valid accuracy：0.8229\n",
      "epoch 83 train accuracy: 1.0000 valid accuracy：0.8222\n",
      "epoch 84 train accuracy: 1.0000 valid accuracy：0.8223\n",
      "epoch 85 train accuracy: 1.0000 valid accuracy：0.8221\n",
      "epoch 86 train accuracy: 1.0000 valid accuracy：0.8224\n",
      "epoch 87 train accuracy: 1.0000 valid accuracy：0.8213\n",
      "epoch 88 train accuracy: 1.0000 valid accuracy：0.8211\n",
      "epoch 89 train accuracy: 1.0000 valid accuracy：0.8218\n",
      "epoch 90 train accuracy: 1.0000 valid accuracy：0.8226\n",
      "epoch 91 train accuracy: 1.0000 valid accuracy：0.8238\n",
      "epoch 92 train accuracy: 1.0000 valid accuracy：0.8243\n",
      "epoch 93 train accuracy: 1.0000 valid accuracy：0.8237\n",
      "epoch 94 train accuracy: 1.0000 valid accuracy：0.8217\n",
      "epoch 95 train accuracy: 1.0000 valid accuracy：0.8213\n",
      "epoch 96 train accuracy: 1.0000 valid accuracy：0.8202\n",
      "epoch 97 train accuracy: 1.0000 valid accuracy：0.8191\n",
      "epoch 98 train accuracy: 1.0000 valid accuracy：0.8198\n",
      "epoch 99 train accuracy: 1.0000 valid accuracy：0.8209\n"
     ]
    }
   ],
   "source": [
    "# 实例化DNN，并将模型放在 GPU 训练\n",
    "model = DNN().to(device)\n",
    "# 同样，将损失函数放在 GPU\n",
    "loss_fn = nn.MSELoss(reduction='mean').to(device)\n",
    "#大数据常用Adam优化器，参数需要model的参数，以及学习率\n",
    "optimizer = torch.optim.Adam(model.parameters(), lr=LEARN_RATE)\n",
    "epoch_x = []\n",
    "acc_y = []\n",
    "train_acc_list = []\n",
    "for epoch in range(EPOCHS):\n",
    "    # 加载训练数据\n",
    "    model.train()\n",
    "    for step, data in enumerate(train_loader):\n",
    "        if step > 5:\n",
    "            break\n",
    "        x, y = data\n",
    "        \"\"\"\n",
    "        因为此时的训练集即 x 大小为 （BATCH_SIZE, 1, 28, 28）\n",
    "        因此这里需要一个形状转换为（BATCH_SIZE, 784）;\n",
    "\t\t\n",
    "        y 中代表的是每张照片对应的数字，而我们输出的是 10 个神经元，\n",
    "        即代表每个数字的概率\n",
    "        因此这里将 y 也转换为该数字对应的 one-hot形式来表示\n",
    "        \"\"\"\n",
    "        x = x.view(x.size(0), 784)\n",
    "        yy = np.zeros((x.size(0), 10))\n",
    "        for j in range(x.size(0)):\n",
    "            yy[j][y[j].item()] = 1\n",
    "        yy = torch.from_numpy(yy)\n",
    "        yy = yy.float()\n",
    "        x, yy = x.to(device), yy.to(device)\n",
    " \n",
    "        # 调用模型预测\n",
    "        output = model(x).to(device)\n",
    "        # 计算损失值\n",
    "        loss = loss_fn(output, yy)\n",
    "        # 输出看一下损失变化\n",
    "#         print(f'EPOCH({epoch})   loss = {loss.item()}')\n",
    "        # 每一次循环之前，将梯度清零\n",
    "        optimizer.zero_grad()\n",
    "        # 反向传播\n",
    "        loss.backward()\n",
    "        # 梯度下降，更新参数\n",
    "        optimizer.step()\n",
    "    sums = 0\n",
    "    alls = 0\n",
    "    model.eval()\n",
    "    for i, data in enumerate(train_loader):\n",
    "        if i > 5:\n",
    "            break\n",
    "        x, y = data\n",
    "        # 这里 仅对 x 进行处理\n",
    "        x = x.view(x.size(0), 784)\n",
    "        x, y = x.to(device), y.to(device)\n",
    "        res = model(x).to(device)\n",
    "        # 得到 模型预测值\n",
    "        r = torch.argmax(res,dim = 1)\n",
    "        # 标签，即真实值\n",
    "        sums += torch.sum(r == y).item()\n",
    "        alls += r.size()[0]\n",
    "    train_acc = sums / alls\n",
    "    sums = 0\n",
    "    alls = 0\n",
    "    for i, data in enumerate(test_loader):\n",
    "        x, y = data\n",
    "        # 这里 仅对 x 进行处理\n",
    "        x = x.view(x.size(0), 784)\n",
    "        x, y = x.to(device), y.to(device)\n",
    "        res = model(x).to(device)\n",
    "        # 得到 模型预测值\n",
    "        r = torch.argmax(res,dim = 1)\n",
    "        # 标签，即真实值\n",
    "        sums += torch.sum(r == y).item()\n",
    "        alls += r.size()[0]\n",
    "    print('epoch {} train accuracy: {:.4f} valid accuracy：{:.4f}'.format(epoch,train_acc,sums / alls), )\n",
    "    epoch_x.append(epoch)\n",
    "    acc_y.append(sums/alls)\n",
    "    train_acc_list.append(train_acc)\n",
    "# test："
   ]
  },
  {
   "cell_type": "code",
   "execution_count": 6,
   "id": "77b05b55",
   "metadata": {
    "ExecuteTime": {
     "end_time": "2023-05-25T08:44:47.984004Z",
     "start_time": "2023-05-25T08:44:47.547107Z"
    }
   },
   "outputs": [
    {
     "data": {
      "text/plain": [
       "[<matplotlib.lines.Line2D at 0x13ca3f0fbe0>]"
      ]
     },
     "execution_count": 6,
     "metadata": {},
     "output_type": "execute_result"
    },
    {
     "data": {
      "image/png": "[encoded data removed]",
      "text/plain": [
       "<Figure size 640x480 with 1 Axes>"
      ]
     },
     "metadata": {},
     "output_type": "display_data"
    }
   ],
   "source": [
    "temp = pd.DataFrame()\n",
    "temp['epcoh'] = epoch_x\n",
    "temp['train_acc'] = train_acc_list\n",
    "temp['valid_acc'] = acc_y\n",
    "temp.to_excel('DNN_Acc_WithOut_Dropout_Epoch{}_Batch{}_Lr{}_Max{}_{}-{}-{}.xlsx'.format(EPOCHS,BATCH_SIZE,LEARN_RATE,max(acc_y),INPUT_SIZE,HIDE_SIZE_I, HIDE_SIZE_O),index = False)\n",
    "plt.plot(epoch_x,acc_y)\n",
    "plt.plot(epoch_x,train_acc_list)"
   ]
  },
  {
   "cell_type": "code",
   "execution_count": 7,
   "id": "667de4fb",
   "metadata": {
    "ExecuteTime": {
     "end_time": "2023-05-25T08:44:49.825048Z",
     "start_time": "2023-05-25T08:44:49.804184Z"
    }
   },
   "outputs": [],
   "source": [
    "class DNN_Dropout(nn.Module):\n",
    "    def __init__(self,rate):\n",
    "        super(DNN_Dropout, self).__init__()\n",
    "        # 隐藏层 1，使用 sigmoid 激活函数\n",
    "        self.layer1 = nn.Sequential(\n",
    "            nn.Dropout(p=rate),\n",
    "            nn.Linear(INPUT_SIZE, HIDE_SIZE_I),\n",
    "            nn.Sigmoid()\n",
    "\t\t)\n",
    "        # 隐藏层 2，使用 sigmoid 激活函数\n",
    "        self.layer2 = nn.Sequential(\n",
    "            nn.Linear(HIDE_SIZE_I,HIDE_SIZE_O),\n",
    "            nn.Sigmoid()\n",
    "        )\n",
    "        # 输出层\n",
    "        self.layer_out = nn.Linear(HIDE_SIZE_O, 10)\n",
    " \n",
    "    def forward(self, x):\n",
    "        x = self.layer1(x)\n",
    "        x = self.layer2(x)\n",
    "        self.out = self.layer_out(x)\n",
    "        return self.out"
   ]
  },
  {
   "cell_type": "code",
   "execution_count": 8,
   "id": "597b585b",
   "metadata": {
    "ExecuteTime": {
     "end_time": "2023-05-25T09:12:33.320496Z",
     "start_time": "2023-05-25T08:45:03.875345Z"
    }
   },
   "outputs": [
    {
     "name": "stdout",
     "output_type": "stream",
     "text": [
      "Dropout 0.1 max valid accuracy： 0.8334\n",
      "Dropout 0.2 max valid accuracy： 0.8346\n",
      "Dropout 0.3 max valid accuracy： 0.8359\n",
      "Dropout 0.4 max valid accuracy： 0.8426\n",
      "Dropout 0.5 max valid accuracy： 0.8386\n",
      "Dropout 0.6 max valid accuracy： 0.8405\n",
      "Dropout 0.7 max valid accuracy： 0.8355\n",
      "Dropout 0.8 max valid accuracy： 0.8286\n",
      "Dropout 0.9 max valid accuracy： 0.796\n"
     ]
    }
   ],
   "source": [
    "# 实例化DNN，并将模型放在 GPU 训练\n",
    "dropout_list = []\n",
    "acc_list = []\n",
    "for droppout in range(1,10):\n",
    "    model = DNN_Dropout(droppout/10).to(device)\n",
    "    # 同样，将损失函数放在 GPU\n",
    "    loss_fn = nn.MSELoss(reduction='mean').to(device)\n",
    "    #大数据常用Adam优化器，参数需要model的参数，以及学习率\n",
    "    optimizer = torch.optim.Adam(model.parameters(), lr=LEARN_RATE)\n",
    "    for epoch in range(EPOCHS):\n",
    "        # 加载训练数据\n",
    "        model.train()\n",
    "        for step, data in enumerate(train_loader):\n",
    "            if step > 5:\n",
    "                break\n",
    "            x, y = data\n",
    "            \"\"\"\n",
    "            因为此时的训练集即 x 大小为 （BATCH_SIZE, 1, 28, 28）\n",
    "            因此这里需要一个形状转换为（BATCH_SIZE, 784）;\n",
    "\n",
    "            y 中代表的是每张照片对应的数字，而我们输出的是 10 个神经元，\n",
    "            即代表每个数字的概率\n",
    "            因此这里将 y 也转换为该数字对应的 one-hot形式来表示\n",
    "            \"\"\"\n",
    "            x = x.view(x.size(0), 784)\n",
    "            yy = np.zeros((x.size(0), 10))\n",
    "            for j in range(x.size(0)):\n",
    "                yy[j][y[j].item()] = 1\n",
    "            yy = torch.from_numpy(yy)\n",
    "            yy = yy.float()\n",
    "            x, yy = x.to(device), yy.to(device)\n",
    "\n",
    "            # 调用模型预测\n",
    "            output = model(x).to(device)\n",
    "            # 计算损失值\n",
    "            loss = loss_fn(output, yy)\n",
    "            # 输出看一下损失变化\n",
    "    #         print(f'EPOCH({epoch})   loss = {loss.item()}')\n",
    "            # 每一次循环之前，将梯度清零\n",
    "            optimizer.zero_grad()\n",
    "            # 反向传播\n",
    "            loss.backward()\n",
    "            # 梯度下降，更新参数\n",
    "            optimizer.step()\n",
    "        sums = 0\n",
    "        alls = 0\n",
    "        max_acc = 0\n",
    "        model.eval()\n",
    "        for i, data in enumerate(test_loader):\n",
    "            x, y = data\n",
    "            # 这里 仅对 x 进行处理\n",
    "            x = x.view(x.size(0), 784)\n",
    "            x, y = x.to(device), y.to(device)\n",
    "            res = model(x).to(device)\n",
    "            # 得到 模型预测值\n",
    "            r = torch.argmax(res,dim = 1)\n",
    "            # 标签，即真实值\n",
    "            sums += torch.sum(r == y).item()\n",
    "            alls += r.size()[0]\n",
    "        if sums / alls > max_acc:\n",
    "            max_acc = sums / alls\n",
    "    dropout_list.append(droppout/10)\n",
    "    acc_list.append(max_acc)\n",
    "    print('Dropout {} max valid accuracy：'.format(droppout/10),max_acc)"
   ]
  },
  {
   "cell_type": "code",
   "execution_count": 10,
   "id": "e4dd8d1a",
   "metadata": {
    "ExecuteTime": {
     "end_time": "2023-05-25T09:13:11.925067Z",
     "start_time": "2023-05-25T09:13:11.580140Z"
    }
   },
   "outputs": [
    {
     "data": {
      "text/plain": [
       "[<matplotlib.lines.Line2D at 0x13ca40390a0>]"
      ]
     },
     "execution_count": 10,
     "metadata": {},
     "output_type": "execute_result"
    },
    {
     "data": {
      "image/png": "[encoded data removed]",
      "text/plain": [
       "<Figure size 640x480 with 1 Axes>"
      ]
     },
     "metadata": {},
     "output_type": "display_data"
    }
   ],
   "source": [
    "temp = pd.DataFrame()\n",
    "temp['drop_rate'] = dropout_list\n",
    "temp['acc'] = acc_list\n",
    "temp.to_excel('DNN_Acc_Dropout.xlsx'.format(EPOCHS,BATCH_SIZE,LEARN_RATE,max(acc_list),INPUT_SIZE,HIDE_SIZE_I, HIDE_SIZE_O),index = False)\n",
    "plt.plot(dropout_list,acc_list)"
   ]
  },
  {
   "cell_type": "code",
   "execution_count": 12,
   "id": "230a34dc",
   "metadata": {
    "ExecuteTime": {
     "end_time": "2023-05-25T09:19:53.760687Z",
     "start_time": "2023-05-25T09:16:26.968501Z"
    }
   },
   "outputs": [
    {
     "name": "stdout",
     "output_type": "stream",
     "text": [
      "Best drop_out rate is  0.4\n",
      "epoch 0 train accuracy: 0.1042 valid accuracy：0.1010\n",
      "epoch 1 train accuracy: 0.3854 valid accuracy：0.3502\n",
      "epoch 2 train accuracy: 0.5078 valid accuracy：0.4228\n",
      "epoch 3 train accuracy: 0.6016 valid accuracy：0.5072\n",
      "epoch 4 train accuracy: 0.7604 valid accuracy：0.6315\n",
      "epoch 5 train accuracy: 0.7682 valid accuracy：0.6506\n",
      "epoch 6 train accuracy: 0.8021 valid accuracy：0.6692\n",
      "epoch 7 train accuracy: 0.8281 valid accuracy：0.6986\n",
      "epoch 8 train accuracy: 0.8359 valid accuracy：0.7081\n",
      "epoch 9 train accuracy: 0.8411 valid accuracy：0.7214\n",
      "epoch 10 train accuracy: 0.8646 valid accuracy：0.7386\n",
      "epoch 11 train accuracy: 0.8776 valid accuracy：0.7434\n",
      "epoch 12 train accuracy: 0.8932 valid accuracy：0.7511\n",
      "epoch 13 train accuracy: 0.8984 valid accuracy：0.7566\n",
      "epoch 14 train accuracy: 0.9062 valid accuracy：0.7646\n",
      "epoch 15 train accuracy: 0.9219 valid accuracy：0.7723\n",
      "epoch 16 train accuracy: 0.9193 valid accuracy：0.7721\n",
      "epoch 17 train accuracy: 0.9245 valid accuracy：0.7824\n",
      "epoch 18 train accuracy: 0.9271 valid accuracy：0.7862\n",
      "epoch 19 train accuracy: 0.9401 valid accuracy：0.7915\n",
      "epoch 20 train accuracy: 0.9401 valid accuracy：0.7922\n",
      "epoch 21 train accuracy: 0.9479 valid accuracy：0.7977\n",
      "epoch 22 train accuracy: 0.9531 valid accuracy：0.7997\n",
      "epoch 23 train accuracy: 0.9557 valid accuracy：0.8019\n",
      "epoch 24 train accuracy: 0.9557 valid accuracy：0.8015\n",
      "epoch 25 train accuracy: 0.9635 valid accuracy：0.8046\n",
      "epoch 26 train accuracy: 0.9609 valid accuracy：0.8018\n",
      "epoch 27 train accuracy: 0.9635 valid accuracy：0.8091\n",
      "epoch 28 train accuracy: 0.9635 valid accuracy：0.8077\n",
      "epoch 29 train accuracy: 0.9688 valid accuracy：0.8088\n",
      "epoch 30 train accuracy: 0.9688 valid accuracy：0.8114\n",
      "epoch 31 train accuracy: 0.9714 valid accuracy：0.8121\n",
      "epoch 32 train accuracy: 0.9766 valid accuracy：0.8122\n",
      "epoch 33 train accuracy: 0.9766 valid accuracy：0.8144\n",
      "epoch 34 train accuracy: 0.9792 valid accuracy：0.8173\n",
      "epoch 35 train accuracy: 0.9818 valid accuracy：0.8155\n",
      "epoch 36 train accuracy: 0.9818 valid accuracy：0.8160\n",
      "epoch 37 train accuracy: 0.9792 valid accuracy：0.8194\n",
      "epoch 38 train accuracy: 0.9844 valid accuracy：0.8159\n",
      "epoch 39 train accuracy: 0.9818 valid accuracy：0.8207\n",
      "epoch 40 train accuracy: 0.9870 valid accuracy：0.8232\n",
      "epoch 41 train accuracy: 0.9896 valid accuracy：0.8227\n",
      "epoch 42 train accuracy: 0.9922 valid accuracy：0.8262\n",
      "epoch 43 train accuracy: 0.9922 valid accuracy：0.8255\n",
      "epoch 44 train accuracy: 0.9922 valid accuracy：0.8266\n",
      "epoch 45 train accuracy: 0.9922 valid accuracy：0.8283\n",
      "epoch 46 train accuracy: 0.9922 valid accuracy：0.8265\n",
      "epoch 47 train accuracy: 0.9922 valid accuracy：0.8256\n",
      "epoch 48 train accuracy: 0.9922 valid accuracy：0.8250\n",
      "epoch 49 train accuracy: 0.9948 valid accuracy：0.8270\n",
      "epoch 50 train accuracy: 0.9948 valid accuracy：0.8289\n",
      "epoch 51 train accuracy: 0.9948 valid accuracy：0.8296\n",
      "epoch 52 train accuracy: 0.9948 valid accuracy：0.8285\n",
      "epoch 53 train accuracy: 0.9948 valid accuracy：0.8278\n",
      "epoch 54 train accuracy: 0.9948 valid accuracy：0.8307\n",
      "epoch 55 train accuracy: 0.9948 valid accuracy：0.8276\n",
      "epoch 56 train accuracy: 0.9948 valid accuracy：0.8289\n",
      "epoch 57 train accuracy: 0.9974 valid accuracy：0.8310\n",
      "epoch 58 train accuracy: 0.9948 valid accuracy：0.8326\n",
      "epoch 59 train accuracy: 0.9948 valid accuracy：0.8320\n",
      "epoch 60 train accuracy: 0.9948 valid accuracy：0.8315\n",
      "epoch 61 train accuracy: 1.0000 valid accuracy：0.8301\n",
      "epoch 62 train accuracy: 0.9974 valid accuracy：0.8350\n",
      "epoch 63 train accuracy: 0.9974 valid accuracy：0.8345\n",
      "epoch 64 train accuracy: 1.0000 valid accuracy：0.8330\n",
      "epoch 65 train accuracy: 1.0000 valid accuracy：0.8342\n",
      "epoch 66 train accuracy: 1.0000 valid accuracy：0.8332\n",
      "epoch 67 train accuracy: 1.0000 valid accuracy：0.8332\n",
      "epoch 68 train accuracy: 1.0000 valid accuracy：0.8322\n",
      "epoch 69 train accuracy: 1.0000 valid accuracy：0.8329\n",
      "epoch 70 train accuracy: 1.0000 valid accuracy：0.8353\n",
      "epoch 71 train accuracy: 1.0000 valid accuracy：0.8392\n",
      "epoch 72 train accuracy: 1.0000 valid accuracy：0.8372\n",
      "epoch 73 train accuracy: 1.0000 valid accuracy：0.8367\n",
      "epoch 74 train accuracy: 1.0000 valid accuracy：0.8374\n",
      "epoch 75 train accuracy: 1.0000 valid accuracy：0.8352\n",
      "epoch 76 train accuracy: 1.0000 valid accuracy：0.8375\n",
      "epoch 77 train accuracy: 1.0000 valid accuracy：0.8389\n",
      "epoch 78 train accuracy: 1.0000 valid accuracy：0.8381\n",
      "epoch 79 train accuracy: 1.0000 valid accuracy：0.8377\n",
      "epoch 80 train accuracy: 1.0000 valid accuracy：0.8384\n",
      "epoch 81 train accuracy: 1.0000 valid accuracy：0.8400\n",
      "epoch 82 train accuracy: 1.0000 valid accuracy：0.8390\n",
      "epoch 83 train accuracy: 1.0000 valid accuracy：0.8385\n",
      "epoch 84 train accuracy: 1.0000 valid accuracy：0.8380\n",
      "epoch 85 train accuracy: 1.0000 valid accuracy：0.8362\n",
      "epoch 86 train accuracy: 1.0000 valid accuracy：0.8388\n",
      "epoch 87 train accuracy: 1.0000 valid accuracy：0.8399\n",
      "epoch 88 train accuracy: 1.0000 valid accuracy：0.8392\n",
      "epoch 89 train accuracy: 1.0000 valid accuracy：0.8405\n",
      "epoch 90 train accuracy: 1.0000 valid accuracy：0.8399\n",
      "epoch 91 train accuracy: 1.0000 valid accuracy：0.8393\n",
      "epoch 92 train accuracy: 1.0000 valid accuracy：0.8408\n",
      "epoch 93 train accuracy: 1.0000 valid accuracy：0.8417\n",
      "epoch 94 train accuracy: 1.0000 valid accuracy：0.8431\n",
      "epoch 95 train accuracy: 1.0000 valid accuracy：0.8409\n",
      "epoch 96 train accuracy: 1.0000 valid accuracy：0.8396\n",
      "epoch 97 train accuracy: 1.0000 valid accuracy：0.8396\n",
      "epoch 98 train accuracy: 1.0000 valid accuracy：0.8403\n",
      "epoch 99 train accuracy: 1.0000 valid accuracy：0.8411\n"
     ]
    }
   ],
   "source": [
    "# 实例化DNN，并将模型放在 GPU 训练\n",
    "best_dropout_rate = temp[temp['acc'] == max(temp['acc'].values)].drop_rate.values[0]\n",
    "print('Best drop_out rate is ',best_dropout_rate)\n",
    "model = DNN_Dropout(best_dropout_rate).to(device)\n",
    "# 同样，将损失函数放在 GPU\n",
    "loss_fn = nn.MSELoss(reduction='mean').to(device)\n",
    "#大数据常用Adam优化器，参数需要model的参数，以及学习率\n",
    "optimizer = torch.optim.Adam(model.parameters(), lr=LEARN_RATE)\n",
    "epoch_x = []\n",
    "acc_y = []\n",
    "train_acc_list = []\n",
    "for epoch in range(EPOCHS):\n",
    "    # 加载训练数据\n",
    "    model.train()\n",
    "    for step, data in enumerate(train_loader):\n",
    "        if step > 5:\n",
    "            break\n",
    "        x, y = data\n",
    "        \"\"\"\n",
    "        因为此时的训练集即 x 大小为 （BATCH_SIZE, 1, 28, 28）\n",
    "        因此这里需要一个形状转换为（BATCH_SIZE, 784）;\n",
    "\t\t\n",
    "        y 中代表的是每张照片对应的数字，而我们输出的是 10 个神经元，\n",
    "        即代表每个数字的概率\n",
    "        因此这里将 y 也转换为该数字对应的 one-hot形式来表示\n",
    "        \"\"\"\n",
    "        x = x.view(x.size(0), 784)\n",
    "        yy = np.zeros((x.size(0), 10))\n",
    "        for j in range(x.size(0)):\n",
    "            yy[j][y[j].item()] = 1\n",
    "        yy = torch.from_numpy(yy)\n",
    "        yy = yy.float()\n",
    "        x, yy = x.to(device), yy.to(device)\n",
    " \n",
    "        # 调用模型预测\n",
    "        output = model(x).to(device)\n",
    "        # 计算损失值\n",
    "        loss = loss_fn(output, yy)\n",
    "        # 输出看一下损失变化\n",
    "#         print(f'EPOCH({epoch})   loss = {loss.item()}')\n",
    "        # 每一次循环之前，将梯度清零\n",
    "        optimizer.zero_grad()\n",
    "        # 反向传播\n",
    "        loss.backward()\n",
    "        # 梯度下降，更新参数\n",
    "        optimizer.step()\n",
    "    sums = 0\n",
    "    alls = 0\n",
    "    model.eval()\n",
    "    for i, data in enumerate(train_loader):\n",
    "        if i > 5:\n",
    "            break\n",
    "        x, y = data\n",
    "        # 这里 仅对 x 进行处理\n",
    "        x = x.view(x.size(0), 784)\n",
    "        x, y = x.to(device), y.to(device)\n",
    "        res = model(x).to(device)\n",
    "        # 得到 模型预测值\n",
    "        r = torch.argmax(res,dim = 1)\n",
    "        # 标签，即真实值\n",
    "        sums += torch.sum(r == y).item()\n",
    "        alls += r.size()[0]\n",
    "    train_acc = sums / alls\n",
    "    sums = 0\n",
    "    alls = 0\n",
    "    for i, data in enumerate(test_loader):\n",
    "        x, y = data\n",
    "        # 这里 仅对 x 进行处理\n",
    "        x = x.view(x.size(0), 784)\n",
    "        x, y = x.to(device), y.to(device)\n",
    "        res = model(x).to(device)\n",
    "        # 得到 模型预测值\n",
    "        r = torch.argmax(res,dim = 1)\n",
    "        # 标签，即真实值\n",
    "        sums += torch.sum(r == y).item()\n",
    "        alls += r.size()[0]\n",
    "    print('epoch {} train accuracy: {:.4f} valid accuracy：{:.4f}'.format(epoch,train_acc,sums / alls), )\n",
    "    epoch_x.append(epoch)\n",
    "    acc_y.append(sums/alls)\n",
    "    train_acc_list.append(train_acc)\n",
    "# test："
   ]
  },
  {
   "cell_type": "code",
   "execution_count": 30,
   "id": "850992fe",
   "metadata": {
    "ExecuteTime": {
     "end_time": "2023-05-25T07:37:36.253956Z",
     "start_time": "2023-05-25T07:37:35.843947Z"
    }
   },
   "outputs": [
    {
     "data": {
      "text/plain": [
       "[<matplotlib.lines.Line2D at 0x1ef38b38ee0>]"
      ]
     },
     "execution_count": 30,
     "metadata": {},
     "output_type": "execute_result"
    },
    {
     "data": {
      "image/png": "[encoded data removed]",
      "text/plain": [
       "<Figure size 640x480 with 1 Axes>"
      ]
     },
     "metadata": {},
     "output_type": "display_data"
    }
   ],
   "source": [
    "temp = pd.DataFrame()\n",
    "temp['epcoh'] = epoch_x\n",
    "temp['train_acc'] = train_acc_list\n",
    "temp['valid_acc'] = acc_y\n",
    "temp.to_excel('DNN_Acc_With_Dropout_Epoch{}_Batch{}_Lr{}_Max{}_{}-{}-{}.xlsx'.format(EPOCHS,BATCH_SIZE,LEARN_RATE,max(acc_y),INPUT_SIZE,HIDE_SIZE_I, HIDE_SIZE_O),index = False)\n",
    "plt.plot(epoch_x,acc_y)\n",
    "plt.plot(epoch_x,train_acc_list)"
   ]
  },
  {
   "cell_type": "code",
   "execution_count": null,
   "id": "ad952488",
   "metadata": {},
   "outputs": [],
   "source": []
  }
 ],
 "metadata": {
  "kernelspec": {
   "display_name": "Python 3 (ipykernel)",
   "language": "python",
   "name": "python3"
  },
  "language_info": {
   "codemirror_mode": {
    "name": "ipython",
    "version": 3
   },
   "file_extension": ".py",
   "mimetype": "text/x-python",
   "name": "python",
   "nbconvert_exporter": "python",
   "pygments_lexer": "ipython3",
   "version": "3.8.16"
  },
  "toc": {
   "base_numbering": 1,
   "nav_menu": {},
   "number_sections": true,
   "sideBar": true,
   "skip_h1_title": false,
   "title_cell": "Table of Contents",
   "title_sidebar": "Contents",
   "toc_cell": false,
   "toc_position": {},
   "toc_section_display": true,
   "toc_window_display": false
  },
  "varInspector": {
   "cols": {
    "lenName": 16,
    "lenType": 16,
    "lenVar": 40
   },
   "kernels_config": {
    "python": {
     "delete_cmd_postfix": "",
     "delete_cmd_prefix": "del ",
     "library": "var_list.py",
     "varRefreshCmd": "print(var_dic_list())"
    },
    "r": {
     "delete_cmd_postfix": ") ",
     "delete_cmd_prefix": "rm(",
     "library": "var_list.r",
     "varRefreshCmd": "cat(var_dic_list()) "
    }
   },
   "types_to_exclude": [
    "module",
    "function",
    "builtin_function_or_method",
    "instance",
    "_Feature"
   ],
   "window_display": false
  }
 },
 "nbformat": 4,
 "nbformat_minor": 5
}
