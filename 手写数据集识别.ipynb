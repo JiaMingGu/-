{
 "cells": [
  {
   "cell_type": "code",
   "execution_count": 1,
   "id": "9be5ad92",
   "metadata": {
    "ExecuteTime": {
     "end_time": "2023-05-23T12:17:07.261943Z",
     "start_time": "2023-05-23T12:17:06.570838Z"
    }
   },
   "outputs": [],
   "source": [
    "import matplotlib.pyplot as plt\n",
    "import pandas as pd"
   ]
  },
  {
   "cell_type": "code",
   "execution_count": 2,
   "id": "3c4334ee",
   "metadata": {
    "ExecuteTime": {
     "end_time": "2023-05-23T12:17:09.671871Z",
     "start_time": "2023-05-23T12:17:08.106640Z"
    }
   },
   "outputs": [],
   "source": [
    "import torch\n",
    "import numpy as np\n",
    "import torchvision\n",
    "import torch.nn as nn\n",
    "from torch.utils.data import DataLoader\n",
    " \n",
    "# 分批次训练，一批 64 个\n",
    "BATCH_SIZE = 64\n",
    "# 所有样本训练 3 次\n",
    "EPOCHS = 100\n",
    "# 学习率设置为 0.0006\n",
    "LEARN_RATE = 2e-3\n",
    "\n",
    "# 若当前 Pytorch 版本以及电脑支持GPU，则使用 GPU 训练，否则使用 CPU\n",
    "device = torch.device('cuda:0' if torch.cuda.is_available() else 'cpu')\n",
    " \n",
    "# 训练集数据加载\n",
    "train_data = torchvision.datasets.MNIST(\n",
    "    download=True,\n",
    "    root='./mnist',\n",
    "    train=True,\n",
    "    transform=torchvision.transforms.ToTensor()\n",
    ")\n",
    "# 构建训练集的数据装载器，一次迭代有 BATCH_SIZE 张图片\n",
    "train_loader = DataLoader(dataset=train_data, batch_size=BATCH_SIZE, shuffle=False)\n",
    " \n",
    "# 测试集数据加载\n",
    "test_data = torchvision.datasets.MNIST(\n",
    "    root='./mnist',\n",
    "    train=False,\n",
    "    transform=torchvision.transforms.ToTensor()\n",
    ")\n",
    "# 构建测试集的数据加载器，一次迭代 1 张图片，我们一张一张的测试\n",
    "test_loader = DataLoader(dataset=test_data, batch_size=128, shuffle = True)\n",
    "INPUT_SIZE = 784\n",
    "HIDE_SIZE_I = 256\n",
    "HIDE_SIZE_O = 64"
   ]
  },
  {
   "cell_type": "code",
   "execution_count": 3,
   "id": "6ab293d6",
   "metadata": {
    "ExecuteTime": {
     "end_time": "2023-05-23T12:17:10.562865Z",
     "start_time": "2023-05-23T12:17:10.552054Z"
    }
   },
   "outputs": [],
   "source": [
    "class DNN(nn.Module):\n",
    "    def __init__(self):\n",
    "        super(DNN, self).__init__()\n",
    "        # 隐藏层 1，使用 sigmoid 激活函数\n",
    "        self.layer1 = nn.Sequential(\n",
    "            nn.Linear(INPUT_SIZE, HIDE_SIZE_I),\n",
    "            nn.Sigmoid()\n",
    "\t\t)\n",
    "        # 隐藏层 2，使用 sigmoid 激活函数\n",
    "        self.layer2 = nn.Sequential(\n",
    "            nn.Linear(HIDE_SIZE_I,HIDE_SIZE_O),\n",
    "            nn.Sigmoid()\n",
    "        )\n",
    "        # 输出层\n",
    "        self.layer_out = nn.Linear(HIDE_SIZE_O, 10)\n",
    " \n",
    "    def forward(self, x):\n",
    "        x = self.layer1(x)\n",
    "        x = self.layer2(x)\n",
    "        self.out = self.layer_out(x)\n",
    "        return self.out"
   ]
  },
  {
   "cell_type": "code",
   "execution_count": 4,
   "id": "b648fc5b",
   "metadata": {
    "ExecuteTime": {
     "end_time": "2023-05-23T12:18:40.690007Z",
     "start_time": "2023-05-23T12:17:14.204076Z"
    }
   },
   "outputs": [
    {
     "name": "stdout",
     "output_type": "stream",
     "text": [
      "epoch 0 valid accuracy： 0.2794\n",
      "epoch 1 valid accuracy： 0.5723\n",
      "epoch 2 valid accuracy： 0.6876\n",
      "epoch 3 valid accuracy： 0.7412\n",
      "epoch 4 valid accuracy： 0.7902\n",
      "epoch 5 valid accuracy： 0.8198\n",
      "epoch 6 valid accuracy： 0.8345\n",
      "epoch 7 valid accuracy： 0.844\n",
      "epoch 8 valid accuracy： 0.8488\n",
      "epoch 9 valid accuracy： 0.8525\n",
      "epoch 10 valid accuracy： 0.8566\n",
      "epoch 11 valid accuracy： 0.86\n",
      "epoch 12 valid accuracy： 0.8642\n",
      "epoch 13 valid accuracy： 0.8682\n",
      "epoch 14 valid accuracy： 0.8717\n",
      "epoch 15 valid accuracy： 0.8746\n",
      "epoch 16 valid accuracy： 0.8775\n",
      "epoch 17 valid accuracy： 0.88\n",
      "epoch 18 valid accuracy： 0.8827\n",
      "epoch 19 valid accuracy： 0.8839\n",
      "epoch 20 valid accuracy： 0.8853\n",
      "epoch 21 valid accuracy： 0.8872\n",
      "epoch 22 valid accuracy： 0.8873\n",
      "epoch 23 valid accuracy： 0.8884\n",
      "epoch 24 valid accuracy： 0.8886\n",
      "epoch 25 valid accuracy： 0.8899\n",
      "epoch 26 valid accuracy： 0.89\n",
      "epoch 27 valid accuracy： 0.8898\n",
      "epoch 28 valid accuracy： 0.8903\n",
      "epoch 29 valid accuracy： 0.8905\n",
      "epoch 30 valid accuracy： 0.8903\n",
      "epoch 31 valid accuracy： 0.8906\n",
      "epoch 32 valid accuracy： 0.8913\n",
      "epoch 33 valid accuracy： 0.8913\n",
      "epoch 34 valid accuracy： 0.8926\n",
      "epoch 35 valid accuracy： 0.8929\n",
      "epoch 36 valid accuracy： 0.8936\n",
      "epoch 37 valid accuracy： 0.8967\n",
      "epoch 38 valid accuracy： 0.8967\n",
      "epoch 39 valid accuracy： 0.892\n",
      "epoch 40 valid accuracy： 0.8933\n",
      "epoch 41 valid accuracy： 0.8945\n",
      "epoch 42 valid accuracy： 0.891\n",
      "epoch 43 valid accuracy： 0.8954\n",
      "epoch 44 valid accuracy： 0.8961\n",
      "epoch 45 valid accuracy： 0.8967\n",
      "epoch 46 valid accuracy： 0.8967\n",
      "epoch 47 valid accuracy： 0.897\n",
      "epoch 48 valid accuracy： 0.8973\n",
      "epoch 49 valid accuracy： 0.897\n",
      "epoch 50 valid accuracy： 0.8955\n",
      "epoch 51 valid accuracy： 0.8945\n",
      "epoch 52 valid accuracy： 0.8957\n",
      "epoch 53 valid accuracy： 0.8964\n",
      "epoch 54 valid accuracy： 0.8975\n",
      "epoch 55 valid accuracy： 0.8972\n",
      "epoch 56 valid accuracy： 0.8972\n",
      "epoch 57 valid accuracy： 0.897\n",
      "epoch 58 valid accuracy： 0.8966\n",
      "epoch 59 valid accuracy： 0.8944\n",
      "epoch 60 valid accuracy： 0.8939\n",
      "epoch 61 valid accuracy： 0.8934\n",
      "epoch 62 valid accuracy： 0.8955\n",
      "epoch 63 valid accuracy： 0.897\n",
      "epoch 64 valid accuracy： 0.8968\n",
      "epoch 65 valid accuracy： 0.8962\n",
      "epoch 66 valid accuracy： 0.8945\n",
      "epoch 67 valid accuracy： 0.8938\n",
      "epoch 68 valid accuracy： 0.894\n",
      "epoch 69 valid accuracy： 0.8954\n",
      "epoch 70 valid accuracy： 0.897\n",
      "epoch 71 valid accuracy： 0.8967\n",
      "epoch 72 valid accuracy： 0.8958\n",
      "epoch 73 valid accuracy： 0.8942\n",
      "epoch 74 valid accuracy： 0.8939\n",
      "epoch 75 valid accuracy： 0.8952\n",
      "epoch 76 valid accuracy： 0.8961\n",
      "epoch 77 valid accuracy： 0.8958\n",
      "epoch 78 valid accuracy： 0.8957\n",
      "epoch 79 valid accuracy： 0.8958\n",
      "epoch 80 valid accuracy： 0.8953\n",
      "epoch 81 valid accuracy： 0.8945\n",
      "epoch 82 valid accuracy： 0.8931\n",
      "epoch 83 valid accuracy： 0.895\n",
      "epoch 84 valid accuracy： 0.8976\n",
      "epoch 85 valid accuracy： 0.8958\n",
      "epoch 86 valid accuracy： 0.8939\n",
      "epoch 87 valid accuracy： 0.8942\n",
      "epoch 88 valid accuracy： 0.8963\n",
      "epoch 89 valid accuracy： 0.8972\n",
      "epoch 90 valid accuracy： 0.8963\n",
      "epoch 91 valid accuracy： 0.8954\n",
      "epoch 92 valid accuracy： 0.8938\n",
      "epoch 93 valid accuracy： 0.8941\n",
      "epoch 94 valid accuracy： 0.8944\n",
      "epoch 95 valid accuracy： 0.8958\n",
      "epoch 96 valid accuracy： 0.8963\n",
      "epoch 97 valid accuracy： 0.8963\n",
      "epoch 98 valid accuracy： 0.895\n",
      "epoch 99 valid accuracy： 0.894\n"
     ]
    }
   ],
   "source": [
    "# 实例化DNN，并将模型放在 GPU 训练\n",
    "model = DNN().to(device)\n",
    "# 同样，将损失函数放在 GPU\n",
    "loss_fn = nn.MSELoss(reduction='mean').to(device)\n",
    "#大数据常用Adam优化器，参数需要model的参数，以及学习率\n",
    "optimizer = torch.optim.Adam(model.parameters(), lr=LEARN_RATE)\n",
    "epoch_x = []\n",
    "acc_y = []\n",
    "for epoch in range(EPOCHS):\n",
    "    # 加载训练数据\n",
    "    model.train()\n",
    "    for step, data in enumerate(train_loader):\n",
    "        if step > 15:\n",
    "            break\n",
    "        x, y = data\n",
    "        \"\"\"\n",
    "        因为此时的训练集即 x 大小为 （BATCH_SIZE, 1, 28, 28）\n",
    "        因此这里需要一个形状转换为（BATCH_SIZE, 784）;\n",
    "\t\t\n",
    "        y 中代表的是每张照片对应的数字，而我们输出的是 10 个神经元，\n",
    "        即代表每个数字的概率\n",
    "        因此这里将 y 也转换为该数字对应的 one-hot形式来表示\n",
    "        \"\"\"\n",
    "        x = x.view(x.size(0), 784)\n",
    "        yy = np.zeros((x.size(0), 10))\n",
    "        for j in range(x.size(0)):\n",
    "            yy[j][y[j].item()] = 1\n",
    "        yy = torch.from_numpy(yy)\n",
    "        yy = yy.float()\n",
    "        x, yy = x.to(device), yy.to(device)\n",
    " \n",
    "        # 调用模型预测\n",
    "        output = model(x).to(device)\n",
    "        # 计算损失值\n",
    "        loss = loss_fn(output, yy)\n",
    "        # 输出看一下损失变化\n",
    "#         print(f'EPOCH({epoch})   loss = {loss.item()}')\n",
    "        # 每一次循环之前，将梯度清零\n",
    "        optimizer.zero_grad()\n",
    "        # 反向传播\n",
    "        loss.backward()\n",
    "        # 梯度下降，更新参数\n",
    "        optimizer.step()\n",
    "    sums = 0\n",
    "    alls = 0\n",
    "    model.eval()\n",
    "    for i, data in enumerate(test_loader):\n",
    "        x, y = data\n",
    "        # 这里 仅对 x 进行处理\n",
    "        x = x.view(x.size(0), 784)\n",
    "        x, y = x.to(device), y.to(device)\n",
    "        res = model(x).to(device)\n",
    "        # 得到 模型预测值\n",
    "        r = torch.argmax(res,dim = 1)\n",
    "        # 标签，即真实值\n",
    "        sums += torch.sum(r == y).item()\n",
    "        alls += r.size()[0]\n",
    "    print('epoch {} valid accuracy：'.format(epoch), sums / alls)\n",
    "    epoch_x.append(epoch)\n",
    "    acc_y.append(sums/alls)\n",
    "# test："
   ]
  },
  {
   "cell_type": "code",
   "execution_count": 5,
   "id": "77b05b55",
   "metadata": {
    "ExecuteTime": {
     "end_time": "2023-05-23T12:19:50.526297Z",
     "start_time": "2023-05-23T12:19:50.237590Z"
    }
   },
   "outputs": [
    {
     "data": {
      "text/plain": [
       "[<matplotlib.lines.Line2D at 0x1c8f1da5dc0>]"
      ]
     },
     "execution_count": 5,
     "metadata": {},
     "output_type": "execute_result"
    },
    {
     "data": {
      "image/png": "[encoded data removed]",
      "text/plain": [
       "<Figure size 640x480 with 1 Axes>"
      ]
     },
     "metadata": {},
     "output_type": "display_data"
    }
   ],
   "source": [
    "temp = pd.DataFrame()\n",
    "temp['epcoh'] = epoch_x\n",
    "temp['acc'] = acc_y\n",
    "temp.to_excel('DNN_Acc_WithOut_Dropout_Epoch{}_Batch{}_Lr{}_Max{}_{}-{}-{}.xlsx'.format(EPOCHS,BATCH_SIZE,LEARN_RATE,max(acc_y),INPUT_SIZE,HIDE_SIZE_I, HIDE_SIZE_O),index = False)\n",
    "plt.plot(epoch_x,acc_y)"
   ]
  },
  {
   "cell_type": "code",
   "execution_count": 6,
   "id": "667de4fb",
   "metadata": {
    "ExecuteTime": {
     "end_time": "2023-05-23T12:20:19.725740Z",
     "start_time": "2023-05-23T12:20:19.714735Z"
    }
   },
   "outputs": [],
   "source": [
    "class DNN_Dropout(nn.Module):\n",
    "    def __init__(self,rate):\n",
    "        super(DNN_Dropout, self).__init__()\n",
    "        # 隐藏层 1，使用 sigmoid 激活函数\n",
    "        self.layer1 = nn.Sequential(\n",
    "            nn.Dropout(p=rate),\n",
    "            nn.Linear(INPUT_SIZE, HIDE_SIZE_I),\n",
    "            nn.Sigmoid()\n",
    "\t\t)\n",
    "        # 隐藏层 2，使用 sigmoid 激活函数\n",
    "        self.layer2 = nn.Sequential(\n",
    "            nn.Linear(HIDE_SIZE_I,HIDE_SIZE_O),\n",
    "            nn.Sigmoid()\n",
    "        )\n",
    "        # 输出层\n",
    "        self.layer_out = nn.Linear(HIDE_SIZE_O, 10)\n",
    " \n",
    "    def forward(self, x):\n",
    "        x = self.layer1(x)\n",
    "        x = self.layer2(x)\n",
    "        self.out = self.layer_out(x)\n",
    "        return self.out"
   ]
  },
  {
   "cell_type": "code",
   "execution_count": 7,
   "id": "597b585b",
   "metadata": {
    "ExecuteTime": {
     "end_time": "2023-05-23T12:32:05.850054Z",
     "start_time": "2023-05-23T12:20:21.154730Z"
    }
   },
   "outputs": [
    {
     "name": "stdout",
     "output_type": "stream",
     "text": [
      "Dropout 0.1 max valid accuracy： 0.9006\n",
      "Dropout 0.2 max valid accuracy： 0.9067\n",
      "Dropout 0.3 max valid accuracy： 0.9086\n",
      "Dropout 0.4 max valid accuracy： 0.9066\n",
      "Dropout 0.5 max valid accuracy： 0.909\n",
      "Dropout 0.6 max valid accuracy： 0.9075\n",
      "Dropout 0.7 max valid accuracy： 0.9074\n",
      "Dropout 0.8 max valid accuracy： 0.8915\n",
      "Dropout 0.9 max valid accuracy： 0.8535\n"
     ]
    }
   ],
   "source": [
    "# 实例化DNN，并将模型放在 GPU 训练\n",
    "for droppout in range(1,10):\n",
    "    model = DNN_Dropout(droppout/10).to(device)\n",
    "    # 同样，将损失函数放在 GPU\n",
    "    loss_fn = nn.MSELoss(reduction='mean').to(device)\n",
    "    #大数据常用Adam优化器，参数需要model的参数，以及学习率\n",
    "    optimizer = torch.optim.Adam(model.parameters(), lr=LEARN_RATE)\n",
    "    dropout_list = []\n",
    "    acc_list = []\n",
    "    for epoch in range(EPOCHS):\n",
    "        # 加载训练数据\n",
    "        model.train()\n",
    "        for step, data in enumerate(train_loader):\n",
    "            if step > 15:\n",
    "                break\n",
    "            x, y = data\n",
    "            \"\"\"\n",
    "            因为此时的训练集即 x 大小为 （BATCH_SIZE, 1, 28, 28）\n",
    "            因此这里需要一个形状转换为（BATCH_SIZE, 784）;\n",
    "\n",
    "            y 中代表的是每张照片对应的数字，而我们输出的是 10 个神经元，\n",
    "            即代表每个数字的概率\n",
    "            因此这里将 y 也转换为该数字对应的 one-hot形式来表示\n",
    "            \"\"\"\n",
    "            x = x.view(x.size(0), 784)\n",
    "            yy = np.zeros((x.size(0), 10))\n",
    "            for j in range(x.size(0)):\n",
    "                yy[j][y[j].item()] = 1\n",
    "            yy = torch.from_numpy(yy)\n",
    "            yy = yy.float()\n",
    "            x, yy = x.to(device), yy.to(device)\n",
    "\n",
    "            # 调用模型预测\n",
    "            output = model(x).to(device)\n",
    "            # 计算损失值\n",
    "            loss = loss_fn(output, yy)\n",
    "            # 输出看一下损失变化\n",
    "    #         print(f'EPOCH({epoch})   loss = {loss.item()}')\n",
    "            # 每一次循环之前，将梯度清零\n",
    "            optimizer.zero_grad()\n",
    "            # 反向传播\n",
    "            loss.backward()\n",
    "            # 梯度下降，更新参数\n",
    "            optimizer.step()\n",
    "        sums = 0\n",
    "        alls = 0\n",
    "        max_acc = 0\n",
    "        model.eval()\n",
    "        for i, data in enumerate(test_loader):\n",
    "            x, y = data\n",
    "            # 这里 仅对 x 进行处理\n",
    "            x = x.view(x.size(0), 784)\n",
    "            x, y = x.to(device), y.to(device)\n",
    "            res = model(x).to(device)\n",
    "            # 得到 模型预测值\n",
    "            r = torch.argmax(res,dim = 1)\n",
    "            # 标签，即真实值\n",
    "            sums += torch.sum(r == y).item()\n",
    "            alls += r.size()[0]\n",
    "        if sums / alls > max_acc:\n",
    "            max_acc = sums / alls\n",
    "        dropout_list.append(droppout/10)\n",
    "        acc_list.append(max_acc)\n",
    "    print('Dropout {} max valid accuracy：'.format(droppout/10),max_acc)\n",
    "# test："
   ]
  },
  {
   "cell_type": "code",
   "execution_count": 10,
   "id": "e4dd8d1a",
   "metadata": {
    "ExecuteTime": {
     "end_time": "2023-05-23T12:32:51.650295Z",
     "start_time": "2023-05-23T12:32:50.813542Z"
    }
   },
   "outputs": [
    {
     "data": {
      "text/plain": [
       "[<matplotlib.lines.Line2D at 0x1c8fe89de50>]"
      ]
     },
     "execution_count": 10,
     "metadata": {},
     "output_type": "execute_result"
    },
    {
     "data": {
      "image/png": "[encoded data removed]",
      "text/plain": [
       "<Figure size 640x480 with 1 Axes>"
      ]
     },
     "metadata": {},
     "output_type": "display_data"
    }
   ],
   "source": [
    "temp = pd.DataFrame()\n",
    "temp['drop_rate'] = dropout_list\n",
    "temp['acc'] = acc_list\n",
    "temp.to_excel('DNN_Acc_With_Dropout_Epoch{}_Batch{}_Lr{}_Max{}_{}-{}-{}.xlsx'.format(EPOCHS,BATCH_SIZE,LEARN_RATE,max(acc_list),INPUT_SIZE,HIDE_SIZE_I, HIDE_SIZE_O),index = False)\n",
    "plt.plot(dropout_list,acc_list)"
   ]
  },
  {
   "cell_type": "code",
   "execution_count": 12,
   "id": "97c88096",
   "metadata": {
    "ExecuteTime": {
     "end_time": "2023-05-23T12:33:38.142174Z",
     "start_time": "2023-05-23T12:33:38.126228Z"
    }
   },
   "outputs": [],
   "source": [
    "dropout_list = []\n",
    "acc_list = []\n",
    "for i in range(1,10):\n",
    "    dropout_list.append(i/10)\n",
    "acc_list.append(0.9006\n",
    "acc_list.append(0.9067\n",
    "acc_list.append(0.9086\n",
    "acc_list.append(0.9066\n",
    "acc_list.append(0.909\n",
    "acc_list.append(0.9075\n",
    "acc_list.append(0.9074\n",
    "acc_list.append(0.8915\n",
    "0.8535"
   ]
  },
  {
   "cell_type": "code",
   "execution_count": null,
   "id": "25d67e6d",
   "metadata": {},
   "outputs": [],
   "source": [
    "0.9006\n",
    "0.9067\n",
    "0.9086\n",
    "0.9066\n",
    "0.909\n",
    "0.9075\n",
    "0.9074\n",
    "0.8915\n",
    "0.8535"
   ]
  }
 ],
 "metadata": {
  "kernelspec": {
   "display_name": "Python 3 (ipykernel)",
   "language": "python",
   "name": "python3"
  },
  "language_info": {
   "codemirror_mode": {
    "name": "ipython",
    "version": 3
   },
   "file_extension": ".py",
   "mimetype": "text/x-python",
   "name": "python",
   "nbconvert_exporter": "python",
   "pygments_lexer": "ipython3",
   "version": "3.8.16"
  },
  "toc": {
   "base_numbering": 1,
   "nav_menu": {},
   "number_sections": true,
   "sideBar": true,
   "skip_h1_title": false,
   "title_cell": "Table of Contents",
   "title_sidebar": "Contents",
   "toc_cell": false,
   "toc_position": {},
   "toc_section_display": true,
   "toc_window_display": false
  },
  "varInspector": {
   "cols": {
    "lenName": 16,
    "lenType": 16,
    "lenVar": 40
   },
   "kernels_config": {
    "python": {
     "delete_cmd_postfix": "",
     "delete_cmd_prefix": "del ",
     "library": "var_list.py",
     "varRefreshCmd": "print(var_dic_list())"
    },
    "r": {
     "delete_cmd_postfix": ") ",
     "delete_cmd_prefix": "rm(",
     "library": "var_list.r",
     "varRefreshCmd": "cat(var_dic_list()) "
    }
   },
   "types_to_exclude": [
    "module",
    "function",
    "builtin_function_or_method",
    "instance",
    "_Feature"
   ],
   "window_display": false
  }
 },
 "nbformat": 4,
 "nbformat_minor": 5
}
